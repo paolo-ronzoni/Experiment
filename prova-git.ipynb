{
 "cells": [
  {
   "cell_type": "code",
   "execution_count": 3,
   "id": "8c837bcc",
   "metadata": {},
   "outputs": [
    {
     "data": {
      "application/javascript": [
       "var rate = 0;\n",
       "// apply setting to  all current CodeMirror instances\n",
       "IPython.notebook.get_cells().map(\n",
       "    function(c) {  return c.code_mirror.options.cursorBlinkRate=rate;  }\n",
       ");\n",
       "\n",
       "// make sure new CodeMirror instance also use this setting\n",
       "CodeMirror.defaults.cursorBlinkRate=rate;\n"
      ],
      "text/plain": [
       "<IPython.core.display.Javascript object>"
      ]
     },
     "metadata": {},
     "output_type": "display_data"
    }
   ],
   "source": [
    "%%javascript\n",
    "var rate = 0;\n",
    "// apply setting to  all current CodeMirror instances\n",
    "IPython.notebook.get_cells().map(\n",
    "    function(c) {  return c.code_mirror.options.cursorBlinkRate=rate;  }\n",
    ");\n",
    "\n",
    "// make sure new CodeMirror instance also use this setting\n",
    "CodeMirror.defaults.cursorBlinkRate=rate;"
   ]
  },
  {
   "cell_type": "code",
   "execution_count": 4,
   "id": "40c76479",
   "metadata": {},
   "outputs": [],
   "source": [
    "import pandas as pd"
   ]
  },
  {
   "cell_type": "code",
   "execution_count": 5,
   "id": "6508789d",
   "metadata": {},
   "outputs": [
    {
     "name": "stdout",
     "output_type": "stream",
     "text": [
      "          Numeri\n",
      "0       0.233333\n",
      "1  345556.000000\n",
      "2       0.123450\n",
      "3   67890.000000\n"
     ]
    }
   ],
   "source": [
    "\n",
    "# Esempio di DataFrame\n",
    "data = {'Numeri': [0.233333, 345556.34454, 0.12345, 67890.678]}\n",
    "df = pd.DataFrame(data)\n",
    "\n",
    "# Funzione per rimuovere la parte decimale se il numero non inizia per zero\n",
    "def remove_decimal(num):\n",
    "    if str(num).startswith('0'):\n",
    "        return num\n",
    "    else:\n",
    "        return int(num)\n",
    "\n",
    "# Applica la funzione alla colonna 'Numeri'\n",
    "df['Numeri'] = df['Numeri'].apply(lambda x: remove_decimal(x))\n",
    "\n",
    "# Stampa il DataFrame risultante\n",
    "print(df)\n",
    "\n",
    "#In questo esempio, la funzione remove_decimal() controlla se il numero inizia per zero convertendo il n"
   ]
  },
  {
   "cell_type": "code",
   "execution_count": 1,
   "id": "ace40092",
   "metadata": {},
   "outputs": [
    {
     "name": "stdout",
     "output_type": "stream",
     "text": [
      "paolo\n"
     ]
    }
   ],
   "source": [
    "print('paolo')"
   ]
  },
  {
   "cell_type": "code",
   "execution_count": 2,
   "id": "4c58074d",
   "metadata": {},
   "outputs": [
    {
     "name": "stdout",
     "output_type": "stream",
     "text": [
      "Ancona\n"
     ]
    }
   ],
   "source": [
    "print('Ancona')"
   ]
  },
  {
   "cell_type": "code",
   "execution_count": null,
   "id": "98c6adcf",
   "metadata": {},
   "outputs": [],
   "source": []
  }
 ],
 "metadata": {
  "kernelspec": {
   "display_name": "Python 3",
   "language": "python",
   "name": "python3"
  },
  "language_info": {
   "codemirror_mode": {
    "name": "ipython",
    "version": 3
   },
   "file_extension": ".py",
   "mimetype": "text/x-python",
   "name": "python",
   "nbconvert_exporter": "python",
   "pygments_lexer": "ipython3",
   "version": "3.9.5"
  }
 },
 "nbformat": 4,
 "nbformat_minor": 5
}
